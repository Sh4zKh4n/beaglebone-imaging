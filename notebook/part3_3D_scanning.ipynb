{
 "cells": [
  {
   "cell_type": "markdown",
   "metadata": {},
   "source": [
    "## PART 3: 3D Scanning"
   ]
  },
  {
   "cell_type": "code",
   "execution_count": 1,
   "metadata": {},
   "outputs": [
    {
     "name": "stdout",
     "output_type": "stream",
     "text": [
      "Importing libraries...\n",
      "Done!\n",
      "Initialize camera and default settings...\n",
      "Done!\n",
      "Define functions needed to capture images...\n",
      "Done!\n",
      "Generating patterns for projector...\n",
      "Done!\n"
     ]
    },
    {
     "data": {
      "text/plain": [
       "<matplotlib.figure.Figure at 0xaeee1f50>"
      ]
     },
     "metadata": {},
     "output_type": "display_data"
    }
   ],
   "source": [
    "## Initialize everything\n",
    "\n",
    "%run common.ipynb"
   ]
  },
  {
   "cell_type": "code",
   "execution_count": 2,
   "metadata": {},
   "outputs": [
    {
     "data": {
      "application/vnd.jupyter.widget-view+json": {
       "model_id": "c015ca4550784f439170add4621aa0fa",
       "version_major": 2,
       "version_minor": 0
      },
      "text/plain": [
       "aW50ZXJhY3RpdmUoY2hpbGRyZW49KEludFNsaWRlcih2YWx1ZT0yNTUsIGRlc2NyaXB0aW9uPXUnYnJpZ2h0bmVzcycsIG1heD0yNTUpLCBEcm9wZG93bihkZXNjcmlwdGlvbj11J1BhdHRlcm7igKY=\n"
      ]
     },
     "metadata": {},
     "output_type": "display_data"
    }
   ],
   "source": [
    "# We can change the brightness of our projector here.\n",
    "# Try setting this value to some integer between 0 and 255.\n",
    "projector_brightness = 255;\n",
    "\n",
    "# Create a projection pattern\n",
    "@widgets.interact_manual(brightness=widgets.IntSlider(min=0, max=255, step=1, value=255), \n",
    "                         pattern_id=widgets.Dropdown(\n",
    "    options=[('All Black', 0), ('All White', 1), ('Horiz. Gradient', 2), ('Vert. Gradient', 3), ('Checkerboard', 4)],\n",
    "    value=4,\n",
    "    description='Pattern type',\n",
    "))\n",
    "def f(brightness, pattern_id):\n",
    "    global projector_brightness;\n",
    "    lightcrafter.set_pattern(brightness * patterns[:,:,pattern_id]);\n",
    "    projector_brightness = brightness;\n",
    "    time.sleep(1);\n",
    "\n",
    "    image = numpy.double(get_color_image()) / 255.0;\n",
    "    plt.imshow(image);\n",
    "    plt.show();\n",
    "    return;"
   ]
  },
  {
   "cell_type": "code",
   "execution_count": 3,
   "metadata": {},
   "outputs": [],
   "source": [
    "def scan_3D():\n",
    "    # Create a projection pattern\n",
    "    pattern_x, pattern_y = numpy.meshgrid(numpy.arange(640),numpy.arange(360))\n",
    "    pattern_x = numpy.uint16(pattern_x)\n",
    "    pattern_y = numpy.uint16(pattern_y)\n",
    "\n",
    "    # Convert to gray codes\n",
    "    pattern_x = numpy.bitwise_xor(pattern_x,numpy.right_shift(pattern_x,1))\n",
    "\n",
    "    img = numpy.uint16(numpy.zeros((200,320)))\n",
    "\n",
    "    for itr in numpy.arange(10):\n",
    "        ptn1 = numpy.right_shift(numpy.bitwise_and(pattern_x,2**itr),itr);\n",
    "        ptn2 = 1-ptn1;\n",
    "\n",
    "        lightcrafter.set_pattern(projector_brightness * ptn1)\n",
    "        time.sleep(1)\n",
    "        img1 = numpy.uint16(256*get_raw_image())\n",
    "\n",
    "        lightcrafter.set_pattern(projector_brightness * ptn2)\n",
    "        time.sleep(1)\n",
    "        img2 = numpy.uint16(256*get_raw_image())\n",
    "\n",
    "        tmp = numpy.uint16(numpy.greater(img1,img2));\n",
    "        tmp = numpy.left_shift(tmp,itr);\n",
    "        img = numpy.bitwise_or(img, tmp)\n",
    "\n",
    "    # Convert to binary codes\n",
    "    mask = numpy.right_shift(img,1)\n",
    "    for itr in numpy.arange(10):\n",
    "        img = numpy.bitwise_xor(img, mask)\n",
    "        mask = numpy.right_shift(mask,1)\n",
    "\n",
    "    lightcrafter.set_pattern(projector_brightness * numpy.ones((360,640)));\n",
    "    time.sleep(1);\n",
    "    mask = get_raw_image();\n",
    "        \n",
    "    return img, mask;"
   ]
  },
  {
   "cell_type": "code",
   "execution_count": 4,
   "metadata": {},
   "outputs": [
    {
     "data": {
      "application/vnd.jupyter.widget-view+json": {
       "model_id": "46ddc58f40ea48a18c02b3c5f8d5accf",
       "version_major": 2,
       "version_minor": 0
      },
      "text/plain": [
       "background_corresondences(description=u'Capture background', style=ButtonStyle())"
      ]
     },
     "metadata": {},
     "output_type": "display_data"
    },
    {
     "data": {
      "application/vnd.jupyter.widget-view+json": {
       "model_id": "1c949a32311649caa658ef048f16d69d",
       "version_major": 2,
       "version_minor": 0
      },
      "text/plain": [
       "Output()"
      ]
     },
     "metadata": {},
     "output_type": "display_data"
    }
   ],
   "source": [
    "## Capture background plane\n",
    "\n",
    "correspondences1 = 0;\n",
    "mask1 = 0;\n",
    "\n",
    "class background_corresondences(widgets.Button):\n",
    "    output = widgets.Output()\n",
    "    \n",
    "    @output.capture()\n",
    "    def on_button_clicked(b):\n",
    "        clear_output();\n",
    "        \n",
    "        global correspondences1, mask1;\n",
    "        correspondences1, mask1 = scan_3D();\n",
    "\n",
    "        plt.imshow(correspondences1);\n",
    "        plt.show();\n",
    "        \n",
    "button1 = background_corresondences(description=\"Capture background\")\n",
    "button1.on_click(background_corresondences.on_button_clicked)\n",
    "\n",
    "display(button1)\n",
    "display(background_corresondences.output)"
   ]
  },
  {
   "cell_type": "code",
   "execution_count": 5,
   "metadata": {},
   "outputs": [
    {
     "data": {
      "application/vnd.jupyter.widget-view+json": {
       "model_id": "6a5f6f4cb3b4485eb344bb22357f4d56",
       "version_major": 2,
       "version_minor": 0
      },
      "text/plain": [
       "foreground_corresondences(description=u'Capture foreground', style=ButtonStyle())"
      ]
     },
     "metadata": {},
     "output_type": "display_data"
    },
    {
     "data": {
      "application/vnd.jupyter.widget-view+json": {
       "model_id": "9a8d65c42ed341e5af4884c6fdd8d2f8",
       "version_major": 2,
       "version_minor": 0
      },
      "text/plain": [
       "Output()"
      ]
     },
     "metadata": {},
     "output_type": "display_data"
    }
   ],
   "source": [
    "## Capture foreground plane\n",
    "\n",
    "correspondences2 = 0;\n",
    "mask2 = 0;\n",
    "\n",
    "class foreground_corresondences(widgets.Button):\n",
    "    output = widgets.Output()\n",
    "    \n",
    "    @output.capture()\n",
    "    def on_button_clicked(b):\n",
    "        clear_output();\n",
    "        \n",
    "        global correspondences2, mask2;\n",
    "        correspondences2, mask2 = scan_3D();\n",
    "\n",
    "        plt.imshow(correspondences2);\n",
    "        plt.show();\n",
    "        \n",
    "button2 = foreground_corresondences(description=\"Capture foreground\")\n",
    "button2.on_click(foreground_corresondences.on_button_clicked)\n",
    "\n",
    "display(button2)\n",
    "display(foreground_corresondences.output)"
   ]
  },
  {
   "cell_type": "code",
   "execution_count": 6,
   "metadata": {},
   "outputs": [
    {
     "data": {
      "application/vnd.jupyter.widget-view+json": {
       "model_id": "81c203a71522448cb8e4e3f458a32ff8",
       "version_major": 2,
       "version_minor": 0
      },
      "text/plain": [
       "aW50ZXJhY3RpdmUoY2hpbGRyZW49KEZsb2F0U2xpZGVyKHZhbHVlPTAuMCwgZGVzY3JpcHRpb249dSd0aHJlc2hvbGQnLCBzdGVwPTEuMCksIEZsb2F0U2xpZGVyKHZhbHVlPTUwLjAsIGRlc2PigKY=\n"
      ]
     },
     "metadata": {},
     "output_type": "display_data"
    }
   ],
   "source": [
    "@widgets.interact_manual(threshold=widgets.FloatSlider(min=0, max=100, step=1, value=0), \n",
    "                         avg_val=widgets.FloatSlider(min=0, max=100, step=1, value=50), \n",
    "                         range_val=widgets.FloatSlider(min=0, max=100, step=1, value=50))\n",
    "def g(threshold, avg_val, range_val):\n",
    "    mask = numpy.double(numpy.greater(numpy.minimum(mask1,mask2),threshold));\n",
    "\n",
    "    depth = (numpy.double(correspondences2) - numpy.double(correspondences1))\n",
    "    depth = depth*mask;\n",
    "\n",
    "    plt.imshow(depth[0::2,0::2],vmin=avg_val-range_val,vmax=avg_val+range_val)\n",
    "    plt.show()"
   ]
  },
  {
   "cell_type": "code",
   "execution_count": null,
   "metadata": {},
   "outputs": [],
   "source": []
  }
 ],
 "metadata": {
  "kernelspec": {
   "display_name": "Python 2",
   "language": "python",
   "name": "python2"
  },
  "language_info": {
   "codemirror_mode": {
    "name": "ipython",
    "version": 2
   },
   "file_extension": ".py",
   "mimetype": "text/x-python",
   "name": "python",
   "nbconvert_exporter": "python",
   "pygments_lexer": "ipython2",
   "version": "2.7.13"
  }
 },
 "nbformat": 4,
 "nbformat_minor": 2
}
