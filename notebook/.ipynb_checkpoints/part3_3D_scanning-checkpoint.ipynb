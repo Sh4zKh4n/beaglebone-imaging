{
 "cells": [
  {
   "cell_type": "markdown",
   "metadata": {},
   "source": [
    "## PART 3: 3D Scanning"
   ]
  },
  {
   "cell_type": "code",
   "execution_count": null,
   "metadata": {},
   "outputs": [],
   "source": [
    "## Initialize everything\n",
    "\n",
    "%run common.ipynb"
   ]
  },
  {
   "cell_type": "code",
   "execution_count": null,
   "metadata": {},
   "outputs": [],
   "source": [
    "# We can change the brightness of our projector here.\n",
    "# Try setting this value to some integer between 0 and 255.\n",
    "projector_brightness = 255;\n",
    "\n",
    "# Create a projection pattern\n",
    "@widgets.interact_manual(brightness=widgets.IntSlider(min=0, max=255, step=1, value=255), \n",
    "                         pattern_id=widgets.Dropdown(\n",
    "    options=[('All Black', 0), ('All White', 1), ('Horiz. Gradient', 2), ('Vert. Gradient', 3), ('Checkerboard', 4)],\n",
    "    value=4,\n",
    "    description='Pattern type',\n",
    "))\n",
    "def f(brightness, pattern_id):\n",
    "    global projector_brightness;\n",
    "    lightcrafter.set_pattern(brightness * patterns[:,:,pattern_id]);\n",
    "    projector_brightness = brightness;\n",
    "    time.sleep(1);\n",
    "\n",
    "    image = numpy.double(get_color_image()) / 255.0;\n",
    "    plt.imshow(image);\n",
    "    plt.show();\n",
    "    return;"
   ]
  },
  {
   "cell_type": "code",
   "execution_count": null,
   "metadata": {},
   "outputs": [],
   "source": [
    "def scan_3D():\n",
    "    # Create a projection pattern\n",
    "    pattern_x, pattern_y = numpy.meshgrid(numpy.arange(640),numpy.arange(360))\n",
    "    pattern_x = numpy.uint16(pattern_x)\n",
    "    pattern_y = numpy.uint16(pattern_y)\n",
    "\n",
    "    # Convert to gray codes\n",
    "    pattern_x = numpy.bitwise_xor(pattern_x,numpy.right_shift(pattern_x,1))\n",
    "\n",
    "    img = numpy.uint16(numpy.zeros((200,320)))\n",
    "\n",
    "    for itr in numpy.arange(10):\n",
    "        ptn1 = numpy.right_shift(numpy.bitwise_and(pattern_x,2**itr),itr);\n",
    "        ptn2 = 1-ptn1;\n",
    "\n",
    "        lightcrafter.set_pattern(projector_brightness * ptn1)\n",
    "        time.sleep(1)\n",
    "        img1 = numpy.uint16(256*get_raw_image())\n",
    "\n",
    "        lightcrafter.set_pattern(projector_brightness * ptn2)\n",
    "        time.sleep(1)\n",
    "        img2 = numpy.uint16(256*get_raw_image())\n",
    "\n",
    "        tmp = numpy.uint16(numpy.greater(img1,img2));\n",
    "        tmp = numpy.left_shift(tmp,itr);\n",
    "        img = numpy.bitwise_or(img, tmp)\n",
    "\n",
    "    # Convert to binary codes\n",
    "    mask = numpy.right_shift(img,1)\n",
    "    for itr in numpy.arange(10):\n",
    "        img = numpy.bitwise_xor(img, mask)\n",
    "        mask = numpy.right_shift(mask,1)\n",
    "\n",
    "    lightcrafter.set_pattern(projector_brightness * numpy.ones((360,640)));\n",
    "    time.sleep(1);\n",
    "    mask = get_raw_image();\n",
    "        \n",
    "    return img, mask;"
   ]
  },
  {
   "cell_type": "code",
   "execution_count": null,
   "metadata": {},
   "outputs": [],
   "source": [
    "## Capture background plane\n",
    "\n",
    "correspondences1 = 0;\n",
    "mask1 = 0;\n",
    "\n",
    "class background_corresondences(widgets.Button):\n",
    "    output = widgets.Output()\n",
    "    \n",
    "    @output.capture()\n",
    "    def on_button_clicked(b):\n",
    "        clear_output();\n",
    "        \n",
    "        global correspondences1, mask1;\n",
    "        correspondences1, mask1 = scan_3D();\n",
    "\n",
    "        plt.imshow(correspondences1);\n",
    "        plt.show();\n",
    "        \n",
    "button1 = background_corresondences(description=\"Capture background\")\n",
    "button1.on_click(background_corresondences.on_button_clicked)\n",
    "\n",
    "display(button1)\n",
    "display(background_corresondences.output)"
   ]
  },
  {
   "cell_type": "code",
   "execution_count": null,
   "metadata": {},
   "outputs": [],
   "source": [
    "## Capture foreground plane\n",
    "\n",
    "correspondences2 = 0;\n",
    "mask2 = 0;\n",
    "\n",
    "class foreground_corresondences(widgets.Button):\n",
    "    output = widgets.Output()\n",
    "    \n",
    "    @output.capture()\n",
    "    def on_button_clicked(b):\n",
    "        clear_output();\n",
    "        \n",
    "        global correspondences2, mask2;\n",
    "        correspondences2, mask2 = scan_3D();\n",
    "\n",
    "        plt.imshow(correspondences2);\n",
    "        plt.show();\n",
    "        \n",
    "button2 = foreground_corresondences(description=\"Capture foreground\")\n",
    "button2.on_click(foreground_corresondences.on_button_clicked)\n",
    "\n",
    "display(button2)\n",
    "display(foreground_corresondences.output)"
   ]
  },
  {
   "cell_type": "code",
   "execution_count": null,
   "metadata": {},
   "outputs": [],
   "source": [
    "@widgets.interact_manual(threshold=widgets.FloatSlider(min=0, max=100, step=1, value=0), \n",
    "                         avg_val=widgets.FloatSlider(min=0, max=100, step=1, value=50), \n",
    "                         range_val=widgets.FloatSlider(min=0, max=100, step=1, value=50))\n",
    "def g(threshold, avg_val, range_val):\n",
    "    mask = numpy.double(numpy.greater(numpy.minimum(mask1,mask2),threshold));\n",
    "\n",
    "    depth = (numpy.double(correspondences2) - numpy.double(correspondences1))\n",
    "    depth = depth*mask;\n",
    "\n",
    "    plt.imshow(depth[0::2,0::2],vmin=avg_val-range_val,vmax=avg_val+range_val)\n",
    "    plt.show()"
   ]
  },
  {
   "cell_type": "code",
   "execution_count": null,
   "metadata": {},
   "outputs": [],
   "source": []
  }
 ],
 "metadata": {
  "kernelspec": {
   "display_name": "Python 2",
   "language": "python",
   "name": "python2"
  },
  "language_info": {
   "codemirror_mode": {
    "name": "ipython",
    "version": 2
   },
   "file_extension": ".py",
   "mimetype": "text/x-python",
   "name": "python",
   "nbconvert_exporter": "python",
   "pygments_lexer": "ipython2",
   "version": "2.7.13"
  }
 },
 "nbformat": 4,
 "nbformat_minor": 2
}
