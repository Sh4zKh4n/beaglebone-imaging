{
 "cells": [
  {
   "cell_type": "markdown",
   "metadata": {},
   "source": [
    "## PART 1: Hello, World!\n",
    "\n",
    "This file shows you the basics of how to operate the \"Pixy\" camera and \"LightCrafter\" projector. To run the code in each block, (1) highlight a block of code, and (2) run the block of code by pressing the keys **Shift + Enter**, or clicking the \"Run\" button at the top of this webpage.\n",
    "\n",
    "We will start by loading a number of libraries for the code to work.  Click the block below, and press **Shift + Enter**."
   ]
  },
  {
   "cell_type": "code",
   "execution_count": 6,
   "metadata": {},
   "outputs": [
    {
     "name": "stdout",
     "output_type": "stream",
     "text": [
      "Importing libraries...\n",
      "Done!\n",
      "Initialize camera and default settings...\n",
      "Done!\n",
      "Define functions needed to capture images...\n",
      "Done!\n"
     ]
    },
    {
     "data": {
      "text/plain": [
       "<matplotlib.figure.Figure at 0xad489d30>"
      ]
     },
     "metadata": {},
     "output_type": "display_data"
    }
   ],
   "source": [
    "## Block A: Initialize the camera\n",
    "\n",
    "%run common.ipynb\n",
    "\n",
    "import ipywidgets as widgets\n",
    "from ipywidgets import HBox\n",
    "from IPython.display import clear_output"
   ]
  },
  {
   "cell_type": "markdown",
   "metadata": {},
   "source": [
    "Great!  Now we are ready to start taking images with our Pixy camera.  Let's start by executing the following block, which (1) captures a raw image using the camera, and (2) prints out the value for the first 10 x 10 pixels."
   ]
  },
  {
   "cell_type": "code",
   "execution_count": 7,
   "metadata": {},
   "outputs": [],
   "source": [
    "# Capture and print raw image\n",
    "class button_raw_matrix(widgets.Button):\n",
    "    output = widgets.Output()\n",
    "    \n",
    "    @output.capture()\n",
    "    def on_button_clicked(b):\n",
    "        clear_output();\n",
    "        image = get_raw_image();\n",
    "        print(image[0:10,0:10]);\n",
    "        \n",
    "button1 = button_raw_matrix(description=\"Get Image (v.1)\")\n",
    "button1.on_click(button_raw_matrix.on_button_clicked)"
   ]
  },
  {
   "cell_type": "markdown",
   "metadata": {},
   "source": [
    "The pixel values printed above represent the amount of light captured by each pixel.  Notice that these pixel values range between the value 0 and 255.  Instead of printing out the pixel values, let's visualize our image by executing the following block of code."
   ]
  },
  {
   "cell_type": "code",
   "execution_count": 8,
   "metadata": {},
   "outputs": [],
   "source": [
    "# Capture and display raw image\n",
    "class button_raw_image(widgets.Button):\n",
    "    output = widgets.Output()\n",
    "    \n",
    "    @output.capture()\n",
    "    def on_button_clicked(b):\n",
    "        clear_output();\n",
    "        image = get_raw_image();\n",
    "        plt.imshow(image); plt.show(); # Show the full image\n",
    "        plt.imshow(image[0:50,0:50]); plt.show(); # Zoom into the top corner of the image\n",
    "        \n",
    "button2 = button_raw_image(description=\"Get Image (v.2)\")\n",
    "button2.on_click(button_raw_image.on_button_clicked)"
   ]
  },
  {
   "cell_type": "code",
   "execution_count": 9,
   "metadata": {
    "scrolled": true
   },
   "outputs": [],
   "source": [
    "# Capture and display color image\n",
    "class button_color_image(widgets.Button):\n",
    "    output = widgets.Output()\n",
    "    \n",
    "    @output.capture()\n",
    "    def on_button_clicked(b):\n",
    "        clear_output();\n",
    "        image = get_color_image();\n",
    "        plt.imshow(image); plt.show(); # Show the full image\n",
    "        \n",
    "button3 = button_color_image(description=\"Get Image (v.3)\")\n",
    "button3.on_click(button_color_image.on_button_clicked)"
   ]
  },
  {
   "cell_type": "markdown",
   "metadata": {},
   "source": [
    "Great.  So far, we have learnt how to capture a raw image and a color image.  We have also now know how to change the gain (ISO) of the camera, and the exposure time as well.  Now let's try controlling our projector, and getting it to send out different patterns into the environment."
   ]
  },
  {
   "cell_type": "code",
   "execution_count": 10,
   "metadata": {},
   "outputs": [
    {
     "name": "stdout",
     "output_type": "stream",
     "text": [
      "Generating patterns for projector...\n",
      "Done!\n"
     ]
    }
   ],
   "source": [
    "# Block E: Define a few projector patterns\n",
    "\n",
    "print(\"Generating patterns for projector...\");\n",
    "\n",
    "# Create a white pattern\n",
    "pattern_white = numpy.ones((360,640));\n",
    "\n",
    "# Create a black pattern\n",
    "pattern_black = numpy.zeros((360,640));\n",
    "\n",
    "# Create ramp patterns\n",
    "pattern_x, pattern_y = numpy.meshgrid(numpy.arange(640)/640.0,numpy.arange(360)/360.0);\n",
    "\n",
    "print(\"Done!\");"
   ]
  },
  {
   "cell_type": "code",
   "execution_count": 11,
   "metadata": {},
   "outputs": [],
   "source": [
    "# Block F: Project one of the patterns\n",
    "\n",
    "# We can change the brightness of our projector here.\n",
    "# Try setting this value to some integer between 0 and 255.\n",
    "brightness = 255.0;  ## EDIT THIS\n",
    "\n",
    "# Choose a projector pattern.  Try replacing \"pattern_black\" with one of the following:\n",
    "#    (1) pattern_white, (2) pattern_black, (3) pattern_x, (4) pattern_y\n",
    "pattern = pattern_black;  ## EDIT THIS\n",
    "\n",
    "# Tell the projector to display our pattern.\n",
    "lightcrafter.set_pattern(brightness * pattern);"
   ]
  },
  {
   "cell_type": "markdown",
   "metadata": {},
   "source": [
    "## Camera Controls"
   ]
  },
  {
   "cell_type": "code",
   "execution_count": 12,
   "metadata": {},
   "outputs": [
    {
     "data": {
      "application/vnd.jupyter.widget-view+json": {
       "model_id": "4da2673ad13948d2b6b586f02d1f2b9b",
       "version_major": 2,
       "version_minor": 0
      },
      "text/plain": [
       "aW50ZXJhY3RpdmUoY2hpbGRyZW49KEludFNsaWRlcih2YWx1ZT0zMiwgZGVzY3JpcHRpb249dSdjYW1fZ2FpbicsIG1heD01MTksIG1pbj0zMiksIEZsb2F0U2xpZGVyKHZhbHVlPTE2LjcsIGTigKY=\n"
      ]
     },
     "metadata": {},
     "output_type": "display_data"
    }
   ],
   "source": [
    "@widgets.interact_manual(cam_gain=widgets.IntSlider(min=32, max=519, step=1, value=32), \n",
    "                         cam_exposure=widgets.FloatSlider(min=0.1, max=16.7, step=0.1, value=16.7))\n",
    "def f(cam_gain, cam_exposure):\n",
    "    pixy.set_gain(cam_gain);\n",
    "    pixy.set_exposure(cam_exposure);"
   ]
  },
  {
   "cell_type": "code",
   "execution_count": 13,
   "metadata": {},
   "outputs": [
    {
     "data": {
      "application/vnd.jupyter.widget-view+json": {
       "model_id": "44f5b10eea784febb7961b7dcb707794",
       "version_major": 2,
       "version_minor": 0
      },
      "text/plain": [
       "button_raw_matrix(description=u'Get Image (v.1)', style=ButtonStyle())"
      ]
     },
     "metadata": {},
     "output_type": "display_data"
    },
    {
     "data": {
      "application/vnd.jupyter.widget-view+json": {
       "model_id": "1841f730ca7f4583b8b74dc0150220e9",
       "version_major": 2,
       "version_minor": 0
      },
      "text/plain": [
       "Output()"
      ]
     },
     "metadata": {},
     "output_type": "display_data"
    }
   ],
   "source": [
    "display(button1)\n",
    "display(button_raw_matrix.output)"
   ]
  },
  {
   "cell_type": "code",
   "execution_count": 14,
   "metadata": {},
   "outputs": [
    {
     "data": {
      "application/vnd.jupyter.widget-view+json": {
       "model_id": "3cc4d6d488904a69b27444c103980fd6",
       "version_major": 2,
       "version_minor": 0
      },
      "text/plain": [
       "button_raw_image(description=u'Get Image (v.2)', style=ButtonStyle())"
      ]
     },
     "metadata": {},
     "output_type": "display_data"
    },
    {
     "data": {
      "application/vnd.jupyter.widget-view+json": {
       "model_id": "db84a7e6d0f94eed850914a4a69d873d",
       "version_major": 2,
       "version_minor": 0
      },
      "text/plain": [
       "Output()"
      ]
     },
     "metadata": {},
     "output_type": "display_data"
    }
   ],
   "source": [
    "display(button2)\n",
    "display(button_raw_image.output)"
   ]
  },
  {
   "cell_type": "markdown",
   "metadata": {},
   "source": [
    "## Projector Controls"
   ]
  },
  {
   "cell_type": "code",
   "execution_count": 17,
   "metadata": {},
   "outputs": [
    {
     "data": {
      "application/vnd.jupyter.widget-view+json": {
       "model_id": "e69ca41ded1f4e2da1113da0ae36b5cf",
       "version_major": 2,
       "version_minor": 0
      },
      "text/plain": [
       "aW50ZXJhY3RpdmUoY2hpbGRyZW49KEludFNsaWRlcih2YWx1ZT0yNTUsIGRlc2NyaXB0aW9uPXUnYnJpZ2h0bmVzcycsIG1heD0yNTUpLCBEcm9wZG93bihkZXNjcmlwdGlvbj11J1BhdHRlcm7igKY=\n"
      ]
     },
     "metadata": {},
     "output_type": "display_data"
    }
   ],
   "source": [
    "@widgets.interact_manual(brightness=widgets.IntSlider(min=0, max=255, step=1, value=255), \n",
    "                         pattern_id=widgets.Dropdown(\n",
    "    options=[('All Black', 0), ('All White', 1), ('Horiz. Gradient', 2), ('Vert. Gradient', 3)],\n",
    "    value=0,\n",
    "    description='Pattern type',\n",
    "))\n",
    "def f(brightness, pattern_id):\n",
    "    lightcrafter.set_pattern(brightness * patterns[:,:,pattern_id]);"
   ]
  },
  {
   "cell_type": "code",
   "execution_count": null,
   "metadata": {},
   "outputs": [],
   "source": []
  }
 ],
 "metadata": {
  "kernelspec": {
   "display_name": "Python 2",
   "language": "python",
   "name": "python2"
  },
  "language_info": {
   "codemirror_mode": {
    "name": "ipython",
    "version": 2
   },
   "file_extension": ".py",
   "mimetype": "text/x-python",
   "name": "python",
   "nbconvert_exporter": "python",
   "pygments_lexer": "ipython2",
   "version": "2.7.13"
  }
 },
 "nbformat": 4,
 "nbformat_minor": 2
}
