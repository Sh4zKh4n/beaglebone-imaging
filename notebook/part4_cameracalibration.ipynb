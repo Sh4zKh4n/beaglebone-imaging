{
 "cells": [
  {
   "cell_type": "code",
   "execution_count": null,
   "metadata": {},
   "outputs": [
    {
     "name": "stdout",
     "output_type": "stream",
     "text": [
      "Importing libraries...\n"
     ]
    }
   ],
   "source": [
    "## Initialize everything\n",
    "\n",
    "%run common.ipynb"
   ]
  },
  {
   "cell_type": "code",
   "execution_count": null,
   "metadata": {},
   "outputs": [],
   "source": [
    "# for testing\n",
    "\n",
    "pixel_values = []\n",
    "\n",
    "# adjust these for better noise reduction\n",
    "pixy.set_gamma(1);\n",
    "pixy.set_gain(32);\n",
    "\n",
    "# capture images at various exposures (50 evenly spaced vals btwn 1 and 10)\n",
    "# store average pixel value for each image\n",
    "for x in numpy.linspace(1,10,50):\n",
    "    pixy.set_exposure(x);\n",
    "    val = get_raw_image();\n",
    "    val = get_raw_image(); # need to call twice for exposure change to take effect\n",
    "    pixel_values += [numpy.mean(numpy.mean(val[100:150,100:150]))];\n",
    "    \n",
    "# graph avg pixel val as function of exposure\n",
    "plt.plot(pixel_values); plt.show();"
   ]
  },
  {
   "cell_type": "code",
   "execution_count": null,
   "metadata": {},
   "outputs": [],
   "source": [
    "image = get_raw_image();\n",
    "plt.imshow(image); plt.show();"
   ]
  },
  {
   "cell_type": "code",
   "execution_count": null,
   "metadata": {},
   "outputs": [],
   "source": [
    "# color image created by stacking raw values together\n",
    "#A = numpy.float(image[0::2,0::2]);\n",
    "A = image[0::2,0::2];\n",
    "B = image[0::2,1::2];\n",
    "C = image[1::2,0::2];\n",
    "D = image[1::2,1::2];\n",
    "color_image = numpy.dstack((D, (B/2+C/2), A));\n",
    "plt.imshow(color_image); plt.show();\n",
    "#color_image[80,140,:]"
   ]
  },
  {
   "cell_type": "code",
   "execution_count": null,
   "metadata": {},
   "outputs": [],
   "source": [
    "# above module produces same image as get_color_image()\n",
    "plt.imshow(get_color_image()); plt.show();"
   ]
  },
  {
   "cell_type": "code",
   "execution_count": null,
   "metadata": {},
   "outputs": [],
   "source": [
    "# get time --> pixel\n",
    "pixel_values = []\n",
    "time_deltas = []\n",
    "\n",
    "tmin = 1\n",
    "tmax = 10\n",
    "\n",
    "# adjust these for better noise reduction\n",
    "pixy.set_gamma(1);\n",
    "pixy.set_gain(32);\n",
    "\n",
    "# capture images at various exposures (50 evenly spaced vals btwn 1 and 10)\n",
    "# store average pixel value for each image\n",
    "num_buckets = 50\n",
    "for x in numpy.linspace(tmin, tmax, num_buckets):\n",
    "    pixy.set_exposure(x);\n",
    "    val = get_raw_image();\n",
    "    val = get_raw_image(); # need to call twice for exposure change to take effect\n",
    "    pixel_values += [numpy.mean(numpy.mean(val[100:150,100:150]))]; # y vals\n",
    "    time_deltas += x; # x vals\n",
    "    \n",
    "# graph avg pixel val as function of exposure time\n",
    "plt.plot(pixel_values); plt.show();"
   ]
  },
  {
   "cell_type": "code",
   "execution_count": null,
   "metadata": {},
   "outputs": [],
   "source": [
    "# get pixel --> time\n",
    "\n",
    "# max and min pixel values\n",
    "zmin = 0\n",
    "zmax = 255\n",
    "\n",
    "def get_bucket(px):\n",
    "\tfrac = px - zmin\n",
    "\tb = Math.floor(frac * num_buckets)\n",
    "\n",
    "# use numpy.interp instead?\n",
    "def lin_interp(x, x0, x1, y0, y1):\n",
    "\tz = (x-x0)/(x1-x0)\n",
    "\treturn y0*(1-z) + y1*z\n",
    "\n",
    "# given pixel value x, returns exposure time\n",
    "def g(x):\n",
    "    m = find_bucket(x)\n",
    "    x0 = pixel_values[m]\n",
    "    x1 = pixel_values[m+1]\n",
    "    y0 = time_deltas[m]\n",
    "    y0 = time_deltas[m+1]\n",
    "    return lin_interp(x, x0, x1, y0, y1)\n",
    "\n",
    "# plot exposure time as function of pixel value\n",
    "deltas = []\n",
    "for z in numpy.linspace(zmin, zmax, num_buckets):\n",
    "    deltas += [g(z)]\n",
    "plt.plot(deltas); plt.show();"
   ]
  },
  {
   "cell_type": "code",
   "execution_count": null,
   "metadata": {},
   "outputs": [],
   "source": []
  }
 ],
 "metadata": {
  "kernelspec": {
   "display_name": "Python 2",
   "language": "python",
   "name": "python2"
  },
  "language_info": {
   "codemirror_mode": {
    "name": "ipython",
    "version": 2
   },
   "file_extension": ".py",
   "mimetype": "text/x-python",
   "name": "python",
   "nbconvert_exporter": "python",
   "pygments_lexer": "ipython2",
   "version": "2.7.13"
  }
 },
 "nbformat": 4,
 "nbformat_minor": 2
}
