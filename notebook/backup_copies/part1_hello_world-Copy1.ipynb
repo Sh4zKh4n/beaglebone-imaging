{
 "cells": [
  {
   "cell_type": "markdown",
   "metadata": {},
   "source": [
    "## PART 1: Hello, World!\n",
    "\n",
    "This file shows you the basics of how to operate the \"Pixy\" camera and \"LightCrafter\" projector.  Let's start by running the code by **clicking \"Cell\" > \"Run All\"**.  This might take a few moments to complete.  Scroll down to the next section **Camera Controls**."
   ]
  },
  {
   "cell_type": "code",
   "execution_count": null,
   "metadata": {},
   "outputs": [],
   "source": [
    "## Initialize everything\n",
    "\n",
    "%run common.ipynb"
   ]
  },
  {
   "cell_type": "code",
   "execution_count": null,
   "metadata": {},
   "outputs": [],
   "source": [
    "# Capture and print raw image\n",
    "class button_raw_matrix(widgets.Button):\n",
    "    output = widgets.Output()\n",
    "    \n",
    "    @output.capture()\n",
    "    def on_button_clicked(b):\n",
    "        clear_output();\n",
    "        image = get_raw_image();\n",
    "        print(image[0:10,0:10]);\n",
    "        \n",
    "button1 = button_raw_matrix(description=\"Get Image (v.1)\")\n",
    "button1.on_click(button_raw_matrix.on_button_clicked)"
   ]
  },
  {
   "cell_type": "code",
   "execution_count": null,
   "metadata": {},
   "outputs": [],
   "source": [
    "# Capture and display raw image\n",
    "class button_raw_image(widgets.Button):\n",
    "    output = widgets.Output()\n",
    "    \n",
    "    @output.capture()\n",
    "    def on_button_clicked(b):\n",
    "        clear_output();\n",
    "        image = get_raw_image();\n",
    "        plt.imshow(image); plt.show(); # Show the full image\n",
    "        plt.imshow(image[0:50,0:50]); plt.show(); # Zoom into the top corner of the image\n",
    "        \n",
    "button2 = button_raw_image(description=\"Get Image (v.2)\")\n",
    "button2.on_click(button_raw_image.on_button_clicked)"
   ]
  },
  {
   "cell_type": "code",
   "execution_count": null,
   "metadata": {
    "scrolled": true
   },
   "outputs": [],
   "source": [
    "# Capture and display color image\n",
    "class button_color_image(widgets.Button):\n",
    "    output = widgets.Output()\n",
    "    \n",
    "    @output.capture()\n",
    "    def on_button_clicked(b):\n",
    "        clear_output();\n",
    "        image = get_color_image();\n",
    "        plt.imshow(image); plt.show(); # Show the full image\n",
    "        \n",
    "button3 = button_color_image(description=\"Get Image (v.3)\")\n",
    "button3.on_click(button_color_image.on_button_clicked)"
   ]
  },
  {
   "cell_type": "markdown",
   "metadata": {},
   "source": [
    "## Camera Controls"
   ]
  },
  {
   "cell_type": "markdown",
   "metadata": {},
   "source": [
    "Great!  Now we are ready to start taking images with our Pixy camera.  Let's start by clicking the button below, which (1) captures a raw image using the camera, and (2) prints out the value for the first 10 x 10 pixels."
   ]
  },
  {
   "cell_type": "code",
   "execution_count": null,
   "metadata": {},
   "outputs": [],
   "source": [
    "display(button1)\n",
    "display(button_raw_matrix.output)"
   ]
  },
  {
   "cell_type": "markdown",
   "metadata": {},
   "source": [
    "The pixel values printed above represent the amount of light captured by each pixel.  Notice that these pixel values range between the value 0 and 255.  Instead of printing out the pixel values, let's visualize our image by clicking the following buttons."
   ]
  },
  {
   "cell_type": "code",
   "execution_count": null,
   "metadata": {},
   "outputs": [],
   "source": [
    "display(button2)\n",
    "display(button_raw_image.output)"
   ]
  },
  {
   "cell_type": "code",
   "execution_count": null,
   "metadata": {},
   "outputs": [],
   "source": [
    "display(button3)\n",
    "display(button_color_image.output)"
   ]
  },
  {
   "cell_type": "code",
   "execution_count": null,
   "metadata": {},
   "outputs": [],
   "source": [
    "@widgets.interact_manual(cam_gain=widgets.IntSlider(min=32, max=519, step=1, value=32), \n",
    "                         cam_exposure=widgets.FloatSlider(min=0.1, max=16.7, step=0.1, value=16.7))\n",
    "def f(cam_gain, cam_exposure):\n",
    "    pixy.set_gain(cam_gain);\n",
    "    pixy.set_exposure(cam_exposure);"
   ]
  },
  {
   "cell_type": "markdown",
   "metadata": {},
   "source": [
    "Great.  So far, we have learnt how to capture a raw image and a color image.  We can also change the gain (ISO) of the camera, and the exposure time as well.  Now let's try controlling our projector, and getting it to send out different patterns into the environment."
   ]
  },
  {
   "cell_type": "markdown",
   "metadata": {},
   "source": [
    "## Projector Controls"
   ]
  },
  {
   "cell_type": "code",
   "execution_count": null,
   "metadata": {},
   "outputs": [],
   "source": [
    "@widgets.interact_manual(brightness=widgets.IntSlider(min=0, max=255, step=1, value=255), \n",
    "                         pattern_id=widgets.Dropdown(\n",
    "    options=[('All Black', 0), ('All White', 1), ('Horiz. Gradient', 2), ('Vert. Gradient', 3), ('Checkerboard', 4)],\n",
    "    value=0,\n",
    "    description='Pattern type',\n",
    "))\n",
    "def f(brightness, pattern_id):\n",
    "    lightcrafter.set_pattern(brightness * patterns[:,:,pattern_id]);"
   ]
  },
  {
   "cell_type": "code",
   "execution_count": null,
   "metadata": {},
   "outputs": [],
   "source": []
  }
 ],
 "metadata": {
  "kernelspec": {
   "display_name": "Python 2",
   "language": "python",
   "name": "python2"
  },
  "language_info": {
   "codemirror_mode": {
    "name": "ipython",
    "version": 2
   },
   "file_extension": ".py",
   "mimetype": "text/x-python",
   "name": "python",
   "nbconvert_exporter": "python",
   "pygments_lexer": "ipython2",
   "version": "2.7.13"
  }
 },
 "nbformat": 4,
 "nbformat_minor": 2
}
