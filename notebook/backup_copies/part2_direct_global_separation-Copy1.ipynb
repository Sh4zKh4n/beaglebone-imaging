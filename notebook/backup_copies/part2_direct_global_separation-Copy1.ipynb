{
 "cells": [
  {
   "cell_type": "markdown",
   "metadata": {},
   "source": [
    "## PART 2: Direct and Global Separation"
   ]
  },
  {
   "cell_type": "code",
   "execution_count": 1,
   "metadata": {},
   "outputs": [
    {
     "name": "stdout",
     "output_type": "stream",
     "text": [
      "Importing libraries...\n",
      "Done!\n",
      "Initialize camera and default settings...\n",
      "Done!\n",
      "Define functions needed to capture images...\n",
      "Done!\n",
      "Generating patterns for projector...\n",
      "Done!\n"
     ]
    },
    {
     "data": {
      "text/plain": [
       "<matplotlib.figure.Figure at 0xaef33cd0>"
      ]
     },
     "metadata": {},
     "output_type": "display_data"
    }
   ],
   "source": [
    "## Initialize everything\n",
    "\n",
    "%run common.ipynb"
   ]
  },
  {
   "cell_type": "code",
   "execution_count": 2,
   "metadata": {
    "scrolled": false
   },
   "outputs": [
    {
     "data": {
      "application/vnd.jupyter.widget-view+json": {
       "model_id": "ae1cc9c54fd942a1a9811de5c73de8f0",
       "version_major": 2,
       "version_minor": 0
      },
      "text/plain": [
       "aW50ZXJhY3RpdmUoY2hpbGRyZW49KEludFNsaWRlcih2YWx1ZT0yNTUsIGRlc2NyaXB0aW9uPXUnYnJpZ2h0bmVzcycsIG1heD0yNTUpLCBEcm9wZG93bihkZXNjcmlwdGlvbj11J1BhdHRlcm7igKY=\n"
      ]
     },
     "metadata": {},
     "output_type": "display_data"
    }
   ],
   "source": [
    "# We can change the brightness of our projector here.\n",
    "# Try setting this value to some integer between 0 and 255.\n",
    "projector_brightness = 255;\n",
    "\n",
    "# Create a projection pattern\n",
    "@widgets.interact_manual(brightness=widgets.IntSlider(min=0, max=255, step=1, value=255), \n",
    "                         pattern_id=widgets.Dropdown(\n",
    "    options=[('All Black', 0), ('All White', 1), ('Horiz. Gradient', 2), ('Vert. Gradient', 3), ('Checkerboard', 4)],\n",
    "    value=4,\n",
    "    description='Pattern type',\n",
    "))\n",
    "def f(brightness, pattern_id):\n",
    "    global projector_brightness;\n",
    "    lightcrafter.set_pattern(brightness * patterns[:,:,pattern_id]);\n",
    "    projector_brightness = brightness;\n",
    "    time.sleep(1);\n",
    "\n",
    "    image = numpy.double(get_color_image()) / 255.0;\n",
    "    plt.imshow(image);\n",
    "    plt.show();\n",
    "    return;"
   ]
  },
  {
   "cell_type": "code",
   "execution_count": 3,
   "metadata": {},
   "outputs": [],
   "source": [
    "def update_progress(progress):\n",
    "    bar_length = 20\n",
    "    if isinstance(progress, int):\n",
    "        progress = float(progress)\n",
    "    if not isinstance(progress, float):\n",
    "        progress = 0\n",
    "    if progress < 0:\n",
    "        progress = 0\n",
    "    if progress >= 1:\n",
    "        progress = 1\n",
    "\n",
    "    block = int(round(bar_length * progress))\n",
    "\n",
    "    clear_output(wait = True)\n",
    "    text = \"Progress: [{0}] {1:.1f}%\".format( \"#\" * block + \"-\" * (bar_length - block), progress * 100)\n",
    "    print(text)\n",
    "    \n",
    "    return;"
   ]
  },
  {
   "cell_type": "code",
   "execution_count": 4,
   "metadata": {},
   "outputs": [
    {
     "data": {
      "application/vnd.jupyter.widget-view+json": {
       "model_id": "b97378ca50014dd6b356be115bcc4fdf",
       "version_major": 2,
       "version_minor": 0
      },
      "text/plain": [
       "button_acquisition(description=u'Start Acquisition', style=ButtonStyle())"
      ]
     },
     "metadata": {},
     "output_type": "display_data"
    }
   ],
   "source": [
    "min_buffer = 0;\n",
    "max_buffer = 0;\n",
    "background = 0;\n",
    "\n",
    "# Capture and display raw image\n",
    "class button_acquisition(widgets.Button):\n",
    "    def on_button_clicked(b):\n",
    "        ## Start acquisition phase\n",
    "        global min_buffer, max_buffer, background;\n",
    "        global button1;\n",
    "        \n",
    "        min_buffer = numpy.ones((100,160,3));\n",
    "        max_buffer = numpy.zeros((100,160,3));\n",
    "\n",
    "        lightcrafter.set_pattern(pattern_black);\n",
    "        time.sleep(1);\n",
    "        background = numpy.double(get_color_image()) / 255.0;\n",
    "\n",
    "        itr = 0;\n",
    "        step = 10;\n",
    "\n",
    "        update_progress(itr);\n",
    "\n",
    "        for i in range(0,2*num_pixels,step):\n",
    "            for j in range(0,2*num_pixels,step):\n",
    "\n",
    "                lightcrafter.set_pattern(numpy.roll(projector_brightness * pattern_checker,(i,j),(0,1)));\n",
    "                time.sleep(1);\n",
    "                buffer = numpy.double(get_color_image()) / 255.0;\n",
    "\n",
    "                min_buffer = numpy.minimum(buffer, min_buffer);\n",
    "                max_buffer = numpy.maximum(buffer, max_buffer);\n",
    "\n",
    "                itr = itr + 1;\n",
    "                update_progress(1.0*itr*step*step/(4*num_pixels*num_pixels))\n",
    "        \n",
    "        clear_output();\n",
    "        display(button1)\n",
    "                \n",
    "                \n",
    "button1 = button_acquisition(description=\"Start Acquisition\")\n",
    "button1.on_click(button_acquisition.on_button_clicked)\n",
    "\n",
    "display(button1)"
   ]
  },
  {
   "cell_type": "code",
   "execution_count": 5,
   "metadata": {},
   "outputs": [
    {
     "data": {
      "application/vnd.jupyter.widget-view+json": {
       "model_id": "324df36691244c888d95271bc47c7aa8",
       "version_major": 2,
       "version_minor": 0
      },
      "text/plain": [
       "display_captured_data(description=u'Display captured data', style=ButtonStyle())"
      ]
     },
     "metadata": {},
     "output_type": "display_data"
    },
    {
     "data": {
      "application/vnd.jupyter.widget-view+json": {
       "model_id": "12a1a08c08644bd08eb29ba03fe773b7",
       "version_major": 2,
       "version_minor": 0
      },
      "text/plain": [
       "Output()"
      ]
     },
     "metadata": {},
     "output_type": "display_data"
    }
   ],
   "source": [
    "# Display captured data\n",
    "\n",
    "class display_captured_data(widgets.Button):\n",
    "    output = widgets.Output()\n",
    "    \n",
    "    @output.capture()\n",
    "    def on_button_clicked(b):\n",
    "        clear_output();\n",
    "        \n",
    "        print(\"Maximum pixel values\")\n",
    "        plt.imshow(max_buffer);\n",
    "        plt.show();\n",
    "        \n",
    "        print(\"Minimum pixel values\")\n",
    "        plt.imshow(min_buffer);\n",
    "        plt.show();\n",
    "        \n",
    "        print(\"Background (ambient) illumination\")\n",
    "        plt.imshow(background);\n",
    "        plt.show();\n",
    "        \n",
    "button2 = display_captured_data(description=\"Display captured data\")\n",
    "button2.on_click(display_captured_data.on_button_clicked)\n",
    "\n",
    "display(button2)\n",
    "display(display_captured_data.output)"
   ]
  },
  {
   "cell_type": "code",
   "execution_count": 6,
   "metadata": {
    "scrolled": false
   },
   "outputs": [
    {
     "data": {
      "application/vnd.jupyter.widget-view+json": {
       "model_id": "295f0be258824d7090de045b0ed3b073",
       "version_major": 2,
       "version_minor": 0
      },
      "text/plain": [
       "display_processed_data(description=u'Display processed data', style=ButtonStyle())"
      ]
     },
     "metadata": {},
     "output_type": "display_data"
    },
    {
     "data": {
      "application/vnd.jupyter.widget-view+json": {
       "model_id": "cc2ca74ad6ad43a48b243495b8ec1e7f",
       "version_major": 2,
       "version_minor": 0
      },
      "text/plain": [
       "Output()"
      ]
     },
     "metadata": {},
     "output_type": "display_data"
    }
   ],
   "source": [
    "# Display direct and global separation results\n",
    "\n",
    "class display_processed_data(widgets.Button):\n",
    "    output = widgets.Output()\n",
    "    \n",
    "    @output.capture()\n",
    "    def on_button_clicked(b):\n",
    "        clear_output();\n",
    "        direct_img = max_buffer-min_buffer;\n",
    "        global_img = min_buffer-background;\n",
    "\n",
    "        print(\"Direct component\")\n",
    "        plt.imshow(direct_img);\n",
    "        plt.show();\n",
    "        print(\"Global component\")\n",
    "        plt.imshow(global_img);\n",
    "        plt.show();\n",
    "        \n",
    "button3 = display_processed_data(description=\"Display processed data\")\n",
    "button3.on_click(display_processed_data.on_button_clicked)\n",
    "\n",
    "display(button3)\n",
    "display(display_processed_data.output)"
   ]
  },
  {
   "cell_type": "code",
   "execution_count": null,
   "metadata": {},
   "outputs": [],
   "source": []
  }
 ],
 "metadata": {
  "kernelspec": {
   "display_name": "Python 2",
   "language": "python",
   "name": "python2"
  },
  "language_info": {
   "codemirror_mode": {
    "name": "ipython",
    "version": 2
   },
   "file_extension": ".py",
   "mimetype": "text/x-python",
   "name": "python",
   "nbconvert_exporter": "python",
   "pygments_lexer": "ipython2",
   "version": "2.7.13"
  }
 },
 "nbformat": 4,
 "nbformat_minor": 2
}
