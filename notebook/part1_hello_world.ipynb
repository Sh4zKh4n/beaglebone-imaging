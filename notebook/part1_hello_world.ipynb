{
 "cells": [
  {
   "cell_type": "markdown",
   "metadata": {},
   "source": [
    "## PART 1: Hello, World!\n",
    "\n",
    "This file shows you the basics of how to operate the \"Pixy\" camera and \"LightCrafter\" projector.  Let's start by running the code by **clicking \"Cell\" > \"Run All\"**.  This might take a few moments to complete.  Scroll down to the next section **Camera Controls**."
   ]
  },
  {
   "cell_type": "code",
   "execution_count": 1,
   "metadata": {},
   "outputs": [
    {
     "name": "stdout",
     "output_type": "stream",
     "text": [
      "Importing libraries...\n",
      "Done!\n",
      "Initialize camera and default settings...\n",
      "Done!\n",
      "Define functions needed to capture images...\n",
      "Done!\n",
      "Generating patterns for projector...\n",
      "Done!\n"
     ]
    },
    {
     "data": {
      "text/plain": [
       "<matplotlib.figure.Figure at 0xaeee0f30>"
      ]
     },
     "metadata": {},
     "output_type": "display_data"
    }
   ],
   "source": [
    "## Initialize everything\n",
    "\n",
    "%run common.ipynb"
   ]
  },
  {
   "cell_type": "code",
   "execution_count": 2,
   "metadata": {},
   "outputs": [],
   "source": [
    "# Capture and print raw image\n",
    "class button_raw_matrix(widgets.Button):\n",
    "    output = widgets.Output()\n",
    "    \n",
    "    @output.capture()\n",
    "    def on_button_clicked(b):\n",
    "        clear_output();\n",
    "        image = get_raw_image();\n",
    "        print(image[0:10,0:10]);\n",
    "        \n",
    "button1 = button_raw_matrix(description=\"Get Image (v.1)\")\n",
    "button1.on_click(button_raw_matrix.on_button_clicked)"
   ]
  },
  {
   "cell_type": "code",
   "execution_count": 3,
   "metadata": {},
   "outputs": [],
   "source": [
    "# Capture and display raw image\n",
    "class button_raw_image(widgets.Button):\n",
    "    output = widgets.Output()\n",
    "    \n",
    "    @output.capture()\n",
    "    def on_button_clicked(b):\n",
    "        clear_output();\n",
    "        image = get_raw_image();\n",
    "        plt.imshow(image); plt.show(); # Show the full image\n",
    "        plt.imshow(image[0:50,0:50]); plt.show(); # Zoom into the top corner of the image\n",
    "        \n",
    "button2 = button_raw_image(description=\"Get Image (v.2)\")\n",
    "button2.on_click(button_raw_image.on_button_clicked)"
   ]
  },
  {
   "cell_type": "code",
   "execution_count": 4,
   "metadata": {
    "scrolled": true
   },
   "outputs": [],
   "source": [
    "# Capture and display color image\n",
    "class button_color_image(widgets.Button):\n",
    "    output = widgets.Output()\n",
    "    \n",
    "    @output.capture()\n",
    "    def on_button_clicked(b):\n",
    "        clear_output();\n",
    "        image = get_color_image();\n",
    "        plt.imshow(image); plt.show(); # Show the full image\n",
    "        \n",
    "button3 = button_color_image(description=\"Get Image (v.3)\")\n",
    "button3.on_click(button_color_image.on_button_clicked)"
   ]
  },
  {
   "cell_type": "markdown",
   "metadata": {},
   "source": [
    "## Camera Controls"
   ]
  },
  {
   "cell_type": "markdown",
   "metadata": {},
   "source": [
    "Great!  Now we are ready to start taking images with our Pixy camera.  Let's start by clicking the button below, which (1) captures a raw image using the camera, and (2) prints out the value for the first 10 x 10 pixels."
   ]
  },
  {
   "cell_type": "code",
   "execution_count": 5,
   "metadata": {},
   "outputs": [
    {
     "data": {
      "application/vnd.jupyter.widget-view+json": {
       "model_id": "34fa5d5aab674cdc8c8cc2b76284e1af",
       "version_major": 2,
       "version_minor": 0
      },
      "text/plain": [
       "button_raw_matrix(description=u'Get Image (v.1)', style=ButtonStyle())"
      ]
     },
     "metadata": {},
     "output_type": "display_data"
    },
    {
     "data": {
      "application/vnd.jupyter.widget-view+json": {
       "model_id": "85c2a8d1c4d34fff80c98a79cdfa4fb3",
       "version_major": 2,
       "version_minor": 0
      },
      "text/plain": [
       "Output()"
      ]
     },
     "metadata": {},
     "output_type": "display_data"
    }
   ],
   "source": [
    "display(button1)\n",
    "display(button_raw_matrix.output)"
   ]
  },
  {
   "cell_type": "markdown",
   "metadata": {},
   "source": [
    "The pixel values printed above represent the amount of light captured by each pixel.  Notice that these pixel values range between the value 0 and 255.  Instead of printing out the pixel values, let's visualize our image by clicking the following buttons."
   ]
  },
  {
   "cell_type": "code",
   "execution_count": 6,
   "metadata": {},
   "outputs": [
    {
     "data": {
      "application/vnd.jupyter.widget-view+json": {
       "model_id": "27341130cb564d679a7196ec08fc87be",
       "version_major": 2,
       "version_minor": 0
      },
      "text/plain": [
       "button_raw_image(description=u'Get Image (v.2)', style=ButtonStyle())"
      ]
     },
     "metadata": {},
     "output_type": "display_data"
    },
    {
     "data": {
      "application/vnd.jupyter.widget-view+json": {
       "model_id": "f7f3b966fd854113873a81181e334710",
       "version_major": 2,
       "version_minor": 0
      },
      "text/plain": [
       "Output()"
      ]
     },
     "metadata": {},
     "output_type": "display_data"
    }
   ],
   "source": [
    "display(button2)\n",
    "display(button_raw_image.output)"
   ]
  },
  {
   "cell_type": "code",
   "execution_count": 7,
   "metadata": {},
   "outputs": [
    {
     "data": {
      "application/vnd.jupyter.widget-view+json": {
       "model_id": "961b120c555048cda00a611af4c34938",
       "version_major": 2,
       "version_minor": 0
      },
      "text/plain": [
       "button_color_image(description=u'Get Image (v.3)', style=ButtonStyle())"
      ]
     },
     "metadata": {},
     "output_type": "display_data"
    },
    {
     "data": {
      "application/vnd.jupyter.widget-view+json": {
       "model_id": "2beaf6a56c7247d38b9cb6e6451ac0bb",
       "version_major": 2,
       "version_minor": 0
      },
      "text/plain": [
       "Output()"
      ]
     },
     "metadata": {},
     "output_type": "display_data"
    }
   ],
   "source": [
    "display(button3)\n",
    "display(button_color_image.output)"
   ]
  },
  {
   "cell_type": "code",
   "execution_count": 8,
   "metadata": {},
   "outputs": [
    {
     "data": {
      "application/vnd.jupyter.widget-view+json": {
       "model_id": "1b97e6d2d57b4170824e333b51e81a31",
       "version_major": 2,
       "version_minor": 0
      },
      "text/plain": [
       "aW50ZXJhY3RpdmUoY2hpbGRyZW49KEludFNsaWRlcih2YWx1ZT0zMiwgZGVzY3JpcHRpb249dSdjYW1fZ2FpbicsIG1heD01MTksIG1pbj0zMiksIEZsb2F0U2xpZGVyKHZhbHVlPTE2LjcsIGTigKY=\n"
      ]
     },
     "metadata": {},
     "output_type": "display_data"
    }
   ],
   "source": [
    "@widgets.interact_manual(cam_gain=widgets.IntSlider(min=32, max=519, step=1, value=32), \n",
    "                         cam_exposure=widgets.FloatSlider(min=0.1, max=2*16.7, step=0.1, value=16.7))\n",
    "def f(cam_gain, cam_exposure):\n",
    "    pixy.set_gain(cam_gain);\n",
    "    pixy.set_exposure(cam_exposure);"
   ]
  },
  {
   "cell_type": "markdown",
   "metadata": {},
   "source": [
    "Great.  So far, we have learnt how to capture a raw image and a color image.  We can also change the gain (ISO) of the camera, and the exposure time as well.  Now let's try controlling our projector, and getting it to send out different patterns into the environment."
   ]
  },
  {
   "cell_type": "markdown",
   "metadata": {},
   "source": [
    "## Projector Controls"
   ]
  },
  {
   "cell_type": "code",
   "execution_count": 9,
   "metadata": {},
   "outputs": [
    {
     "data": {
      "application/vnd.jupyter.widget-view+json": {
       "model_id": "d155e78c60564fa2a173d0724b3148dd",
       "version_major": 2,
       "version_minor": 0
      },
      "text/plain": [
       "aW50ZXJhY3RpdmUoY2hpbGRyZW49KEludFNsaWRlcih2YWx1ZT0yNTUsIGRlc2NyaXB0aW9uPXUnYnJpZ2h0bmVzcycsIG1heD0yNTUsIG1pbj0xKSwgRHJvcGRvd24oZGVzY3JpcHRpb249dSfigKY=\n"
      ]
     },
     "metadata": {},
     "output_type": "display_data"
    }
   ],
   "source": [
    "@widgets.interact_manual(brightness=widgets.IntSlider(min=1, max=255, step=1, value=255), \n",
    "pattern_id=widgets.Dropdown(\n",
    "    options=[('All Black', 0), ('All White', 1), ('Horiz. Gradient', 2), ('Vert. Gradient', 3), ('Checkerboard', 4)],\n",
    "    value=0,\n",
    "    description='Pattern type',\n",
    "))\n",
    "def f(brightness, pattern_id):\n",
    "    lightcrafter.set_pattern(brightness * patterns[:,:,pattern_id]);"
   ]
  },
  {
   "cell_type": "code",
   "execution_count": 10,
   "metadata": {},
   "outputs": [
    {
     "name": "stdout",
     "output_type": "stream",
     "text": [
      "6\n"
     ]
    }
   ],
   "source": [
    "g=6\n",
    "print g"
   ]
  },
  {
   "cell_type": "code",
   "execution_count": null,
   "metadata": {},
   "outputs": [],
   "source": []
  }
 ],
 "metadata": {
  "kernelspec": {
   "display_name": "Python 2",
   "language": "python",
   "name": "python2"
  },
  "language_info": {
   "codemirror_mode": {
    "name": "ipython",
    "version": 2
   },
   "file_extension": ".py",
   "mimetype": "text/x-python",
   "name": "python",
   "nbconvert_exporter": "python",
   "pygments_lexer": "ipython2",
   "version": "2.7.13"
  }
 },
 "nbformat": 4,
 "nbformat_minor": 2
}
